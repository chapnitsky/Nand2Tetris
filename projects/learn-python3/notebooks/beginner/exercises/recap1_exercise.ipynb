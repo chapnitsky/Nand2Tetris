{
 "cells": [
  {
   "cell_type": "markdown",
   "metadata": {},
   "source": [
    "# 1. Super vowels\n",
    "Implement `super_vowels` function which takes a string as an argument and returns a modified version of that string. In the return value of `super_vowels`, all vowels should be in upper case whereas all consonants should be in lower case. The vowels are listed in the `VOWELS` variable."
   ]
  },
  {
   "cell_type": "code",
   "execution_count": 7,
   "metadata": {
    "editable": false
   },
   "outputs": [],
   "source": [
    "VOWELS = ['a', 'e', 'i', 'o', 'u']"
   ]
  },
  {
   "cell_type": "code",
   "execution_count": 8,
   "metadata": {},
   "outputs": [],
   "source": [
    "def super_vowels(string):\n",
    "    ret = ''\n",
    "    for i, char in enumerate(string):\n",
    "        if char.lower() in VOWELS:\n",
    "            ret += char.upper()\n",
    "        else:\n",
    "            ret += char.lower()\n",
    "    return ret\n"
   ]
  },
  {
   "cell_type": "code",
   "execution_count": 9,
   "metadata": {
    "editable": false
   },
   "outputs": [],
   "source": [
    "assert super_vowels('hi wassup!') == 'hI wAssUp!'\n",
    "assert super_vowels('HOw aRE You?') == 'hOw ArE yOU?'"
   ]
  },
  {
   "cell_type": "markdown",
   "metadata": {},
   "source": [
    "# 2. Playing board\n",
    "Implement `get_playing_board` function which takes an integer as an argument. The function should return a string which resemples a playing board (e.g. a chess board). The board should contain as many rows and columns as requested by the interger argument. See the cell below for examples of desired behavior.\n"
   ]
  },
  {
   "cell_type": "code",
   "execution_count": 35,
   "metadata": {},
   "outputs": [],
   "source": [
    "import math\n",
    "def get_playing_board(i):\n",
    "    string = ''\n",
    "    dots_in_row = math.floor(i / 2)\n",
    "    flip_flag = False\n",
    "    if i % 2 != 0:\n",
    "        flip_flag = True\n",
    "    for row in range(i):\n",
    "        times = dots_in_row\n",
    "        odd = (row % 2 != 0)\n",
    "        r = ''\n",
    "        if odd and flip_flag:\n",
    "            times += 1\n",
    "        for j in range(times):\n",
    "            if odd:\n",
    "                r += '* '\n",
    "            else:\n",
    "                r += ' *'\n",
    "        if len(r) < i:\n",
    "            r += ' '\n",
    "        elif len(r) > i:\n",
    "            r = r[:-1]\n",
    "        r += '\\n'\n",
    "        string += r\n",
    "    return string"
   ]
  },
  {
   "cell_type": "code",
   "execution_count": 36,
   "metadata": {
    "editable": false
   },
   "outputs": [
    {
     "output_type": "stream",
     "name": "stdout",
     "text": [
      " * * * * * * * * * * * * * * * * * * * * * * * * *\n* * * * * * * * * * * * * * * * * * * * * * * * * \n * * * * * * * * * * * * * * * * * * * * * * * * *\n* * * * * * * * * * * * * * * * * * * * * * * * * \n * * * * * * * * * * * * * * * * * * * * * * * * *\n* * * * * * * * * * * * * * * * * * * * * * * * * \n * * * * * * * * * * * * * * * * * * * * * * * * *\n* * * * * * * * * * * * * * * * * * * * * * * * * \n * * * * * * * * * * * * * * * * * * * * * * * * *\n* * * * * * * * * * * * * * * * * * * * * * * * * \n * * * * * * * * * * * * * * * * * * * * * * * * *\n* * * * * * * * * * * * * * * * * * * * * * * * * \n * * * * * * * * * * * * * * * * * * * * * * * * *\n* * * * * * * * * * * * * * * * * * * * * * * * * \n * * * * * * * * * * * * * * * * * * * * * * * * *\n* * * * * * * * * * * * * * * * * * * * * * * * * \n * * * * * * * * * * * * * * * * * * * * * * * * *\n* * * * * * * * * * * * * * * * * * * * * * * * * \n * * * * * * * * * * * * * * * * * * * * * * * * *\n* * * * * * * * * * * * * * * * * * * * * * * * * \n * * * * * * * * * * * * * * * * * * * * * * * * *\n* * * * * * * * * * * * * * * * * * * * * * * * * \n * * * * * * * * * * * * * * * * * * * * * * * * *\n* * * * * * * * * * * * * * * * * * * * * * * * * \n * * * * * * * * * * * * * * * * * * * * * * * * *\n* * * * * * * * * * * * * * * * * * * * * * * * * \n * * * * * * * * * * * * * * * * * * * * * * * * *\n* * * * * * * * * * * * * * * * * * * * * * * * * \n * * * * * * * * * * * * * * * * * * * * * * * * *\n* * * * * * * * * * * * * * * * * * * * * * * * * \n * * * * * * * * * * * * * * * * * * * * * * * * *\n* * * * * * * * * * * * * * * * * * * * * * * * * \n * * * * * * * * * * * * * * * * * * * * * * * * *\n* * * * * * * * * * * * * * * * * * * * * * * * * \n * * * * * * * * * * * * * * * * * * * * * * * * *\n* * * * * * * * * * * * * * * * * * * * * * * * * \n * * * * * * * * * * * * * * * * * * * * * * * * *\n* * * * * * * * * * * * * * * * * * * * * * * * * \n * * * * * * * * * * * * * * * * * * * * * * * * *\n* * * * * * * * * * * * * * * * * * * * * * * * * \n * * * * * * * * * * * * * * * * * * * * * * * * *\n* * * * * * * * * * * * * * * * * * * * * * * * * \n * * * * * * * * * * * * * * * * * * * * * * * * *\n* * * * * * * * * * * * * * * * * * * * * * * * * \n * * * * * * * * * * * * * * * * * * * * * * * * *\n* * * * * * * * * * * * * * * * * * * * * * * * * \n * * * * * * * * * * * * * * * * * * * * * * * * *\n* * * * * * * * * * * * * * * * * * * * * * * * * \n * * * * * * * * * * * * * * * * * * * * * * * * *\n* * * * * * * * * * * * * * * * * * * * * * * * * \n\n"
     ]
    }
   ],
   "source": [
    "board_of_5 = (\n",
    "' * * \\n'\n",
    "'* * *\\n'\n",
    "' * * \\n'\n",
    "'* * *\\n'\n",
    "' * * \\n'\n",
    ")\n",
    "\n",
    "board_of_10 = (\n",
    "' * * * * *\\n'\n",
    "'* * * * * \\n'\n",
    "' * * * * *\\n'\n",
    "'* * * * * \\n'\n",
    "' * * * * *\\n'\n",
    "'* * * * * \\n'\n",
    "' * * * * *\\n'\n",
    "'* * * * * \\n'\n",
    "' * * * * *\\n'\n",
    "'* * * * * \\n'\n",
    ")\n",
    "\n",
    "assert get_playing_board(5) == board_of_5\n",
    "assert get_playing_board(10) == board_of_10\n",
    "\n",
    "print(get_playing_board(50))"
   ]
  },
  {
   "cell_type": "code",
   "execution_count": null,
   "metadata": {},
   "outputs": [],
   "source": []
  }
 ],
 "metadata": {
  "kernelspec": {
   "name": "python383jvsc74a57bd0083657ae611f9ed70577d28bc1f35e9d173f032867bfb805a1e9a1d7c089abce",
   "display_name": "Python 3.8.3 64-bit"
  },
  "language_info": {
   "codemirror_mode": {
    "name": "ipython",
    "version": 3
   },
   "file_extension": ".py",
   "mimetype": "text/x-python",
   "name": "python",
   "nbconvert_exporter": "python",
   "pygments_lexer": "ipython3",
   "version": "3.8.3"
  }
 },
 "nbformat": 4,
 "nbformat_minor": 2
}