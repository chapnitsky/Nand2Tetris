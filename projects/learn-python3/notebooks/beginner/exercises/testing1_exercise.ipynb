{
 "cells": [
  {
   "cell_type": "code",
   "execution_count": 2,
   "metadata": {},
   "outputs": [
    {
     "output_type": "stream",
     "name": "stdout",
     "text": [
      "Requirement already satisfied: pytest in c:\\users\\satla\\anaconda3\\lib\\site-packages (5.4.3)\n",
      "Requirement already satisfied: py>=1.5.0 in c:\\users\\satla\\anaconda3\\lib\\site-packages (from pytest) (1.9.0)\n",
      "Requirement already satisfied: packaging in c:\\users\\satla\\anaconda3\\lib\\site-packages (from pytest) (20.4)\n",
      "Requirement already satisfied: attrs>=17.4.0 in c:\\users\\satla\\anaconda3\\lib\\site-packages (from pytest) (19.3.0)\n",
      "Requirement already satisfied: more-itertools>=4.0.0 in c:\\users\\satla\\anaconda3\\lib\\site-packages (from pytest) (8.4.0)\n",
      "Requirement already satisfied: pluggy<1.0,>=0.12 in c:\\users\\satla\\anaconda3\\lib\\site-packages (from pytest) (0.13.1)\n",
      "Requirement already satisfied: wcwidth in c:\\users\\satla\\anaconda3\\lib\\site-packages (from pytest) (0.2.5)\n",
      "Requirement already satisfied: atomicwrites>=1.0 in c:\\users\\satla\\anaconda3\\lib\\site-packages (from pytest) (1.4.0)\n",
      "Requirement already satisfied: colorama in c:\\users\\satla\\anaconda3\\lib\\site-packages (from pytest) (0.4.3)\n",
      "Requirement already satisfied: six in c:\\users\\satla\\anaconda3\\lib\\site-packages (from packaging->pytest) (1.15.0)\n",
      "Requirement already satisfied: pyparsing>=2.0.2 in c:\\users\\satla\\anaconda3\\lib\\site-packages (from packaging->pytest) (2.4.7)\n",
      "Requirement already satisfied: ipytest in c:\\users\\satla\\anaconda3\\lib\\site-packages (0.9.1)\n",
      "Requirement already satisfied: packaging in c:\\users\\satla\\anaconda3\\lib\\site-packages (from ipytest) (20.4)\n",
      "Requirement already satisfied: pytest>=5.4 in c:\\users\\satla\\anaconda3\\lib\\site-packages (from ipytest) (5.4.3)\n",
      "Requirement already satisfied: ipython in c:\\users\\satla\\anaconda3\\lib\\site-packages (from ipytest) (7.16.1)\n",
      "Requirement already satisfied: py>=1.5.0 in c:\\users\\satla\\anaconda3\\lib\\site-packages (from pytest>=5.4->ipytest) (1.9.0)\n",
      "Requirement already satisfied: attrs>=17.4.0 in c:\\users\\satla\\anaconda3\\lib\\site-packages (from pytest>=5.4->ipytest) (19.3.0)\n",
      "Requirement already satisfied: more-itertools>=4.0.0 in c:\\users\\satla\\anaconda3\\lib\\site-packages (from pytest>=5.4->ipytest) (8.4.0)\n",
      "Requirement already satisfied: pluggy<1.0,>=0.12 in c:\\users\\satla\\anaconda3\\lib\\site-packages (from pytest>=5.4->ipytest) (0.13.1)\n",
      "Requirement already satisfied: wcwidth in c:\\users\\satla\\anaconda3\\lib\\site-packages (from pytest>=5.4->ipytest) (0.2.5)\n",
      "Requirement already satisfied: atomicwrites>=1.0 in c:\\users\\satla\\anaconda3\\lib\\site-packages (from pytest>=5.4->ipytest) (1.4.0)\n",
      "Requirement already satisfied: colorama in c:\\users\\satla\\anaconda3\\lib\\site-packages (from pytest>=5.4->ipytest) (0.4.3)\n",
      "Requirement already satisfied: setuptools>=18.5 in c:\\users\\satla\\anaconda3\\lib\\site-packages (from ipython->ipytest) (50.3.2)\n",
      "Requirement already satisfied: prompt-toolkit!=3.0.0,!=3.0.1,<3.1.0,>=2.0.0 in c:\\users\\satla\\anaconda3\\lib\\site-packages (from ipython->ipytest) (3.0.5)\n",
      "Requirement already satisfied: traitlets>=4.2 in c:\\users\\satla\\anaconda3\\lib\\site-packages (from ipython->ipytest) (4.3.3)\n",
      "Requirement already satisfied: pygments in c:\\users\\satla\\anaconda3\\lib\\site-packages (from ipython->ipytest) (2.6.1)\n",
      "Requirement already satisfied: jedi>=0.10 in c:\\users\\satla\\anaconda3\\lib\\site-packages (from ipython->ipytest) (0.17.1)\n",
      "Requirement already satisfied: pickleshare in c:\\users\\satla\\anaconda3\\lib\\site-packages (from ipython->ipytest) (0.7.5)\n",
      "Requirement already satisfied: backcall in c:\\users\\satla\\anaconda3\\lib\\site-packages (from ipython->ipytest) (0.2.0)\n",
      "Requirement already satisfied: decorator in c:\\users\\satla\\anaconda3\\lib\\site-packages (from ipython->ipytest) (4.4.2)\n",
      "Requirement already satisfied: parso<0.8.0,>=0.7.0 in c:\\users\\satla\\anaconda3\\lib\\site-packages (from jedi>=0.10->ipython->ipytest) (0.7.0)\n",
      "Requirement already satisfied: six in c:\\users\\satla\\anaconda3\\lib\\site-packages (from traitlets>=4.2->ipython->ipytest) (1.15.0)\n",
      "Requirement already satisfied: ipython-genutils in c:\\users\\satla\\anaconda3\\lib\\site-packages (from traitlets>=4.2->ipython->ipytest) (0.2.0)\n",
      "Requirement already satisfied: pyparsing>=2.0.2 in c:\\users\\satla\\anaconda3\\lib\\site-packages (from packaging->ipytest) (2.4.7)\n"
     ]
    }
   ],
   "source": [
    "# Required boilerplate\n",
    "import sys\n",
    "!{sys.executable} -m pip install pytest\n",
    "!{sys.executable} -m pip install ipytest\n",
    "\n",
    "import ipytest\n",
    "ipytest.autoconfig()\n",
    "import pytest\n",
    "\n",
    "__file__ = 'testing1_exercise.ipynb'"
   ]
  },
  {
   "cell_type": "markdown",
   "metadata": {},
   "source": [
    "# 1. Creating your first test case\n",
    "There is an implementation for `get_divisible_by_five` function in the cell below. Your task is to create a test case for this function to verify that it works correctly.\n"
   ]
  },
  {
   "cell_type": "code",
   "execution_count": 3,
   "metadata": {
    "editable": false
   },
   "outputs": [],
   "source": [
    "def get_divisible_by_five(numbers):\n",
    "    '''Returns a list of numbers which are divisible by five in the list got as an argument'''\n",
    "    result = []\n",
    "    for num in numbers:\n",
    "        if not num % 5:\n",
    "            result.append(num)\n",
    "\n",
    "    return result"
   ]
  },
  {
   "cell_type": "code",
   "execution_count": 4,
   "metadata": {},
   "outputs": [
    {
     "output_type": "stream",
     "name": "stdout",
     "text": [
      ".                                                                        [100%]\n",
      "1 passed in 0.01s\n"
     ]
    }
   ],
   "source": [
    "%%run_pytest[clean]\n",
    "\n",
    "def test_get_divisible_by_five():\n",
    "    check = get_divisible_by_five([0,2,5,7,10,22,25])\n",
    "    assert check == [0, 5, 10, 25]\n"
   ]
  },
  {
   "cell_type": "code",
   "execution_count": null,
   "metadata": {},
   "outputs": [],
   "source": []
  }
 ],
 "metadata": {
  "kernelspec": {
   "name": "python383jvsc74a57bd0083657ae611f9ed70577d28bc1f35e9d173f032867bfb805a1e9a1d7c089abce",
   "display_name": "Python 3.8.3 64-bit"
  },
  "language_info": {
   "codemirror_mode": {
    "name": "ipython",
    "version": 3
   },
   "file_extension": ".py",
   "mimetype": "text/x-python",
   "name": "python",
   "nbconvert_exporter": "python",
   "pygments_lexer": "ipython3",
   "version": "3.8.3"
  }
 },
 "nbformat": 4,
 "nbformat_minor": 2
}