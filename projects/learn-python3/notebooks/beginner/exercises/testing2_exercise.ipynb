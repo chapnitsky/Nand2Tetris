{
 "cells": [
  {
   "cell_type": "code",
   "execution_count": 4,
   "metadata": {},
   "outputs": [
    {
     "output_type": "stream",
     "name": "stdout",
     "text": [
      "Requirement already satisfied: pytest in c:\\users\\satla\\anaconda3\\lib\\site-packages (5.4.3)\n",
      "Requirement already satisfied: py>=1.5.0 in c:\\users\\satla\\anaconda3\\lib\\site-packages (from pytest) (1.9.0)\n",
      "Requirement already satisfied: packaging in c:\\users\\satla\\anaconda3\\lib\\site-packages (from pytest) (20.4)\n",
      "Requirement already satisfied: attrs>=17.4.0 in c:\\users\\satla\\anaconda3\\lib\\site-packages (from pytest) (19.3.0)\n",
      "Requirement already satisfied: more-itertools>=4.0.0 in c:\\users\\satla\\anaconda3\\lib\\site-packages (from pytest) (8.4.0)\n",
      "Requirement already satisfied: pluggy<1.0,>=0.12 in c:\\users\\satla\\anaconda3\\lib\\site-packages (from pytest) (0.13.1)\n",
      "Requirement already satisfied: wcwidth in c:\\users\\satla\\anaconda3\\lib\\site-packages (from pytest) (0.2.5)\n",
      "Requirement already satisfied: atomicwrites>=1.0 in c:\\users\\satla\\anaconda3\\lib\\site-packages (from pytest) (1.4.0)\n",
      "Requirement already satisfied: colorama in c:\\users\\satla\\anaconda3\\lib\\site-packages (from pytest) (0.4.3)\n",
      "Requirement already satisfied: pyparsing>=2.0.2 in c:\\users\\satla\\anaconda3\\lib\\site-packages (from packaging->pytest) (2.4.7)\n",
      "Requirement already satisfied: six in c:\\users\\satla\\anaconda3\\lib\\site-packages (from packaging->pytest) (1.15.0)\n",
      "Requirement already satisfied: ipytest in c:\\users\\satla\\anaconda3\\lib\\site-packages (0.9.1)\n",
      "Requirement already satisfied: ipython in c:\\users\\satla\\anaconda3\\lib\\site-packages (from ipytest) (7.16.1)\n",
      "Requirement already satisfied: pytest>=5.4 in c:\\users\\satla\\anaconda3\\lib\\site-packages (from ipytest) (5.4.3)\n",
      "Requirement already satisfied: packaging in c:\\users\\satla\\anaconda3\\lib\\site-packages (from ipytest) (20.4)\n",
      "Requirement already satisfied: py>=1.5.0 in c:\\users\\satla\\anaconda3\\lib\\site-packages (from pytest>=5.4->ipytest) (1.9.0)\n",
      "Requirement already satisfied: attrs>=17.4.0 in c:\\users\\satla\\anaconda3\\lib\\site-packages (from pytest>=5.4->ipytest) (19.3.0)\n",
      "Requirement already satisfied: more-itertools>=4.0.0 in c:\\users\\satla\\anaconda3\\lib\\site-packages (from pytest>=5.4->ipytest) (8.4.0)\n",
      "Requirement already satisfied: pluggy<1.0,>=0.12 in c:\\users\\satla\\anaconda3\\lib\\site-packages (from pytest>=5.4->ipytest) (0.13.1)\n",
      "Requirement already satisfied: wcwidth in c:\\users\\satla\\anaconda3\\lib\\site-packages (from pytest>=5.4->ipytest) (0.2.5)\n",
      "Requirement already satisfied: atomicwrites>=1.0 in c:\\users\\satla\\anaconda3\\lib\\site-packages (from pytest>=5.4->ipytest) (1.4.0)\n",
      "Requirement already satisfied: colorama in c:\\users\\satla\\anaconda3\\lib\\site-packages (from pytest>=5.4->ipytest) (0.4.3)\n",
      "Requirement already satisfied: pickleshare in c:\\users\\satla\\anaconda3\\lib\\site-packages (from ipython->ipytest) (0.7.5)\n",
      "Requirement already satisfied: jedi>=0.10 in c:\\users\\satla\\anaconda3\\lib\\site-packages (from ipython->ipytest) (0.17.1)\n",
      "Requirement already satisfied: traitlets>=4.2 in c:\\users\\satla\\anaconda3\\lib\\site-packages (from ipython->ipytest) (4.3.3)\n",
      "Requirement already satisfied: setuptools>=18.5 in c:\\users\\satla\\anaconda3\\lib\\site-packages (from ipython->ipytest) (50.3.2)\n",
      "Requirement already satisfied: decorator in c:\\users\\satla\\anaconda3\\lib\\site-packages (from ipython->ipytest) (4.4.2)\n",
      "Requirement already satisfied: pygments in c:\\users\\satla\\anaconda3\\lib\\site-packages (from ipython->ipytest) (2.6.1)\n",
      "Requirement already satisfied: backcall in c:\\users\\satla\\anaconda3\\lib\\site-packages (from ipython->ipytest) (0.2.0)\n",
      "Requirement already satisfied: prompt-toolkit!=3.0.0,!=3.0.1,<3.1.0,>=2.0.0 in c:\\users\\satla\\anaconda3\\lib\\site-packages (from ipython->ipytest) (3.0.5)\n",
      "Requirement already satisfied: parso<0.8.0,>=0.7.0 in c:\\users\\satla\\anaconda3\\lib\\site-packages (from jedi>=0.10->ipython->ipytest) (0.7.0)\n",
      "Requirement already satisfied: ipython-genutils in c:\\users\\satla\\anaconda3\\lib\\site-packages (from traitlets>=4.2->ipython->ipytest) (0.2.0)\n",
      "Requirement already satisfied: six in c:\\users\\satla\\anaconda3\\lib\\site-packages (from traitlets>=4.2->ipython->ipytest) (1.15.0)\n",
      "Requirement already satisfied: pyparsing>=2.0.2 in c:\\users\\satla\\anaconda3\\lib\\site-packages (from packaging->ipytest) (2.4.7)\n"
     ]
    }
   ],
   "source": [
    "# Required boilerplate\n",
    "import sys\n",
    "!{sys.executable} -m pip install pytest\n",
    "!{sys.executable} -m pip install ipytest\n",
    "\n",
    "import ipytest\n",
    "ipytest.autoconfig()\n",
    "import pytest\n",
    "\n",
    "__file__ = 'testing2_exercise.ipynb'"
   ]
  },
  {
   "cell_type": "markdown",
   "metadata": {},
   "source": [
    "# 1. Finalize test cases\n",
    "The testing part of the `TodoList` implementation is incomplete. Fill `____` parts of the tests. "
   ]
  },
  {
   "cell_type": "code",
   "execution_count": 5,
   "metadata": {
    "editable": false
   },
   "outputs": [],
   "source": [
    "class TodoNotFound(Exception):\n",
    "    pass\n",
    "\n",
    "\n",
    "class TodoList:\n",
    "    def __init__(self):\n",
    "        self._todo = {}\n",
    "        self._done = {}\n",
    "        self._task_counter = 1\n",
    "\n",
    "    @property\n",
    "    def todo_tasks(self):\n",
    "        return self._todo\n",
    "\n",
    "    @property\n",
    "    def done_tasks(self):\n",
    "        return self._done\n",
    "\n",
    "    def add(self, task):\n",
    "        self._todo[self._task_counter] = task\n",
    "        self._task_counter += 1\n",
    "\n",
    "    def complete(self, number):\n",
    "        if number not in self._todo:\n",
    "            raise TodoNotFound('{} not in todos'.format(number))\n",
    "\n",
    "        task = self._todo.pop(number)\n",
    "        self._done[number] = task\n",
    "\n",
    "    def remove(self, number):\n",
    "        if number not in self._todo:\n",
    "            raise TodoNotFound('{} not in todos'.format(number))\n",
    "\n",
    "        del self._todo[number]"
   ]
  },
  {
   "cell_type": "markdown",
   "metadata": {},
   "source": [
    "Finalize tests for `TodoList`."
   ]
  },
  {
   "cell_type": "code",
   "execution_count": 10,
   "metadata": {},
   "outputs": [
    {
     "output_type": "stream",
     "name": "stdout",
     "text": [
      "......                                                                   [100%]\n",
      "6 passed in 0.02s\n"
     ]
    }
   ],
   "source": [
    "%%run_pytest[clean]\n",
    "\n",
    "\n",
    "@pytest.fixture()\n",
    "def todo_list():\n",
    "    tl = TodoList()\n",
    "    tl.add('buy milk')\n",
    "    tl.add('take dog out')\n",
    "    tl.add('learn pytest fixtures')\n",
    "    return tl\n",
    "\n",
    "\n",
    "def test_todo_tasks_property(todo_list):\n",
    "    todo = todo_list.todo_tasks\n",
    "    assert todo == {\n",
    "        1: 'buy milk',\n",
    "        2: 'take dog out',\n",
    "        3: 'learn pytest fixtures'\n",
    "    }\n",
    "\n",
    "\n",
    "def test_add(todo_list):\n",
    "    todo_list.add('check pytest docs')\n",
    "    todos = todo_list.todo_tasks\n",
    "    assert todos[4] == 'check pytest docs'\n",
    "\n",
    "\n",
    "def test_complete(todo_list):\n",
    "    # Make sure there is not done tasks yet\n",
    "    assert not todo_list.done_tasks\n",
    "\n",
    "    todo_list.complete(3)\n",
    "    done = todo_list.done_tasks\n",
    "    todo = todo_list.todo_tasks\n",
    "    assert done[3] == 'learn pytest fixtures'\n",
    "    assert 3 not in todo\n",
    "\n",
    "\n",
    "def test_complete_with_unknown_task_number(todo_list):\n",
    "    # This is how you can test that a certain exception is raised\n",
    "    with pytest.raises(TodoNotFound):\n",
    "        todo_list.complete(10)\n",
    "\n",
    "\n",
    "def test_remove(todo_list):\n",
    "    todo_list.remove(1)\n",
    "    done = todo_list.done_tasks\n",
    "    todo = todo_list.todo_tasks\n",
    "\n",
    "    assert 1 not in todo\n",
    "    # Make sure it was not moved to done\n",
    "    assert 'buy milk' not in done\n",
    "\n",
    "\n",
    "def test_remove_with_unknown_task_number(todo_list):\n",
    "    with pytest.raises(TodoNotFound):\n",
    "        todo_list.remove(12)\n"
   ]
  },
  {
   "cell_type": "markdown",
   "metadata": {},
   "source": [
    "# 2. Testing the [Fibonacci numbers](https://en.wikipedia.org/wiki/Fibonacci_number)\n",
    "\n",
    "Implement a test for the `fibonacci` function. Use `pytest.mark.parametrize` and test at least with numbers: 0, 1, 2, 3, and 10. You can find the expected results and more information about the Fibonacci numbers [here](https://en.wikipedia.org/wiki/Fibonacci_number)."
   ]
  },
  {
   "cell_type": "code",
   "execution_count": 11,
   "metadata": {
    "editable": false
   },
   "outputs": [],
   "source": [
    "def fibonacci(number):\n",
    "    if number in [0, 1]:\n",
    "        return number\n",
    "    return fibonacci(number - 1) + fibonacci(number - 2)"
   ]
  },
  {
   "cell_type": "code",
   "execution_count": 12,
   "metadata": {},
   "outputs": [
    {
     "output_type": "stream",
     "name": "stdout",
     "text": [
      ".....                                                                    [100%]\n",
      "5 passed in 0.02s\n"
     ]
    }
   ],
   "source": [
    "%%run_pytest[clean]\n",
    "\n",
    "@pytest.mark.parametrize(\"num,expected\", [\n",
    "        (0, 0),\n",
    "        (1, 1),\n",
    "        (2, 1),\n",
    "        (3, 2),\n",
    "        (10, 55)\n",
    "    ])\n",
    "def test_fib(num, expected):\n",
    "    result = fibonacci(num)\n",
    "    assert result == expected\n"
   ]
  },
  {
   "cell_type": "code",
   "execution_count": null,
   "metadata": {},
   "outputs": [],
   "source": []
  }
 ],
 "metadata": {
  "kernelspec": {
   "name": "python383jvsc74a57bd0083657ae611f9ed70577d28bc1f35e9d173f032867bfb805a1e9a1d7c089abce",
   "display_name": "Python 3.8.3 64-bit"
  },
  "language_info": {
   "codemirror_mode": {
    "name": "ipython",
    "version": 3
   },
   "file_extension": ".py",
   "mimetype": "text/x-python",
   "name": "python",
   "nbconvert_exporter": "python",
   "pygments_lexer": "ipython3",
   "version": "3.8.3"
  }
 },
 "nbformat": 4,
 "nbformat_minor": 2
}