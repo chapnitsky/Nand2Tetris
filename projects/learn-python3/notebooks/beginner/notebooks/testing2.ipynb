{
 "cells": [
  {
   "cell_type": "markdown",
   "metadata": {},
   "source": [
    "# Testing with [pytest](https://docs.pytest.org/en/latest/) - part 2"
   ]
  },
  {
   "cell_type": "code",
   "execution_count": 4,
   "metadata": {},
   "outputs": [
    {
     "output_type": "stream",
     "name": "stdout",
     "text": [
      "Requirement already satisfied: pytest in c:\\users\\satla\\anaconda3\\lib\\site-packages (5.4.3)\n",
      "Requirement already satisfied: py>=1.5.0 in c:\\users\\satla\\anaconda3\\lib\\site-packages (from pytest) (1.9.0)\n",
      "Requirement already satisfied: packaging in c:\\users\\satla\\anaconda3\\lib\\site-packages (from pytest) (20.4)\n",
      "Requirement already satisfied: attrs>=17.4.0 in c:\\users\\satla\\anaconda3\\lib\\site-packages (from pytest) (19.3.0)\n",
      "Requirement already satisfied: more-itertools>=4.0.0 in c:\\users\\satla\\anaconda3\\lib\\site-packages (from pytest) (8.4.0)\n",
      "Requirement already satisfied: pluggy<1.0,>=0.12 in c:\\users\\satla\\anaconda3\\lib\\site-packages (from pytest) (0.13.1)\n",
      "Requirement already satisfied: wcwidth in c:\\users\\satla\\anaconda3\\lib\\site-packages (from pytest) (0.2.5)\n",
      "Requirement already satisfied: atomicwrites>=1.0 in c:\\users\\satla\\anaconda3\\lib\\site-packages (from pytest) (1.4.0)\n",
      "Requirement already satisfied: colorama in c:\\users\\satla\\anaconda3\\lib\\site-packages (from pytest) (0.4.3)\n",
      "Requirement already satisfied: pyparsing>=2.0.2 in c:\\users\\satla\\anaconda3\\lib\\site-packages (from packaging->pytest) (2.4.7)\n",
      "Requirement already satisfied: six in c:\\users\\satla\\anaconda3\\lib\\site-packages (from packaging->pytest) (1.15.0)\n",
      "Requirement already satisfied: ipytest in c:\\users\\satla\\anaconda3\\lib\\site-packages (0.9.1)\n",
      "Requirement already satisfied: pytest>=5.4 in c:\\users\\satla\\anaconda3\\lib\\site-packages (from ipytest) (5.4.3)\n",
      "Requirement already satisfied: packaging in c:\\users\\satla\\anaconda3\\lib\\site-packages (from ipytest) (20.4)\n",
      "Requirement already satisfied: ipython in c:\\users\\satla\\anaconda3\\lib\\site-packages (from ipytest) (7.16.1)\n",
      "Requirement already satisfied: py>=1.5.0 in c:\\users\\satla\\anaconda3\\lib\\site-packages (from pytest>=5.4->ipytest) (1.9.0)\n",
      "Requirement already satisfied: attrs>=17.4.0 in c:\\users\\satla\\anaconda3\\lib\\site-packages (from pytest>=5.4->ipytest) (19.3.0)\n",
      "Requirement already satisfied: more-itertools>=4.0.0 in c:\\users\\satla\\anaconda3\\lib\\site-packages (from pytest>=5.4->ipytest) (8.4.0)\n",
      "Requirement already satisfied: pluggy<1.0,>=0.12 in c:\\users\\satla\\anaconda3\\lib\\site-packages (from pytest>=5.4->ipytest) (0.13.1)\n",
      "Requirement already satisfied: wcwidth in c:\\users\\satla\\anaconda3\\lib\\site-packages (from pytest>=5.4->ipytest) (0.2.5)\n",
      "Requirement already satisfied: atomicwrites>=1.0 in c:\\users\\satla\\anaconda3\\lib\\site-packages (from pytest>=5.4->ipytest) (1.4.0)\n",
      "Requirement already satisfied: colorama in c:\\users\\satla\\anaconda3\\lib\\site-packages (from pytest>=5.4->ipytest) (0.4.3)\n",
      "Requirement already satisfied: traitlets>=4.2 in c:\\users\\satla\\anaconda3\\lib\\site-packages (from ipython->ipytest) (4.3.3)\n",
      "Requirement already satisfied: jedi>=0.10 in c:\\users\\satla\\anaconda3\\lib\\site-packages (from ipython->ipytest) (0.17.1)\n",
      "Requirement already satisfied: pickleshare in c:\\users\\satla\\anaconda3\\lib\\site-packages (from ipython->ipytest) (0.7.5)\n",
      "Requirement already satisfied: backcall in c:\\users\\satla\\anaconda3\\lib\\site-packages (from ipython->ipytest) (0.2.0)\n",
      "Requirement already satisfied: pygments in c:\\users\\satla\\anaconda3\\lib\\site-packages (from ipython->ipytest) (2.6.1)\n",
      "Requirement already satisfied: setuptools>=18.5 in c:\\users\\satla\\anaconda3\\lib\\site-packages (from ipython->ipytest) (50.3.2)\n",
      "Requirement already satisfied: prompt-toolkit!=3.0.0,!=3.0.1,<3.1.0,>=2.0.0 in c:\\users\\satla\\anaconda3\\lib\\site-packages (from ipython->ipytest) (3.0.5)\n",
      "Requirement already satisfied: decorator in c:\\users\\satla\\anaconda3\\lib\\site-packages (from ipython->ipytest) (4.4.2)\n",
      "Requirement already satisfied: parso<0.8.0,>=0.7.0 in c:\\users\\satla\\anaconda3\\lib\\site-packages (from jedi>=0.10->ipython->ipytest) (0.7.0)\n",
      "Requirement already satisfied: ipython-genutils in c:\\users\\satla\\anaconda3\\lib\\site-packages (from traitlets>=4.2->ipython->ipytest) (0.2.0)\n",
      "Requirement already satisfied: six in c:\\users\\satla\\anaconda3\\lib\\site-packages (from traitlets>=4.2->ipython->ipytest) (1.15.0)\n",
      "Requirement already satisfied: pyparsing>=2.0.2 in c:\\users\\satla\\anaconda3\\lib\\site-packages (from packaging->ipytest) (2.4.7)\n"
     ]
    },
    {
     "output_type": "error",
     "ename": "ModuleNotFoundError",
     "evalue": "No module named 'ipytest.magics'",
     "traceback": [
      "\u001b[1;31m---------------------------------------------------------------------------\u001b[0m",
      "\u001b[1;31mModuleNotFoundError\u001b[0m                       Traceback (most recent call last)",
      "\u001b[1;32m<ipython-input-4-bf926adf7fe8>\u001b[0m in \u001b[0;36m<module>\u001b[1;34m\u001b[0m\n\u001b[0;32m      5\u001b[0m \u001b[0mget_ipython\u001b[0m\u001b[1;33m(\u001b[0m\u001b[1;33m)\u001b[0m\u001b[1;33m.\u001b[0m\u001b[0msystem\u001b[0m\u001b[1;33m(\u001b[0m\u001b[1;34m'{sys.executable} -m pip install ipytest'\u001b[0m\u001b[1;33m)\u001b[0m\u001b[1;33m\u001b[0m\u001b[1;33m\u001b[0m\u001b[0m\n\u001b[0;32m      6\u001b[0m \u001b[1;33m\u001b[0m\u001b[0m\n\u001b[1;32m----> 7\u001b[1;33m \u001b[1;32mimport\u001b[0m \u001b[0mipytest\u001b[0m\u001b[1;33m.\u001b[0m\u001b[0mmagics\u001b[0m\u001b[1;33m\u001b[0m\u001b[1;33m\u001b[0m\u001b[0m\n\u001b[0m\u001b[0;32m      8\u001b[0m \u001b[1;32mimport\u001b[0m \u001b[0mpytest\u001b[0m\u001b[1;33m\u001b[0m\u001b[1;33m\u001b[0m\u001b[0m\n\u001b[0;32m      9\u001b[0m \u001b[0m__file__\u001b[0m \u001b[1;33m=\u001b[0m \u001b[1;34m'testing2.ipynb'\u001b[0m\u001b[1;33m\u001b[0m\u001b[1;33m\u001b[0m\u001b[0m\n",
      "\u001b[1;31mModuleNotFoundError\u001b[0m: No module named 'ipytest.magics'"
     ]
    }
   ],
   "source": [
    "# Let's make sure pytest and ipytest packages are installed\n",
    "# ipytest is required for running pytest inside Jupyter notebooks\n",
    "import sys\n",
    "!{sys.executable} -m pip install pytest\n",
    "!{sys.executable} -m pip install ipytest\n",
    "\n",
    "import ipytest\n",
    "ipytest.autoconfig()\n",
    "import pytest\n",
    "__file__ = 'testing2.ipynb'"
   ]
  },
  {
   "cell_type": "markdown",
   "metadata": {},
   "source": [
    "## [`@pytest.fixture`](https://docs.pytest.org/en/latest/fixture.html#pytest-fixtures-explicit-modular-scalable)\n",
    "Let's consider we have an implemention of `Person` class which we want to test."
   ]
  },
  {
   "cell_type": "code",
   "execution_count": null,
   "metadata": {},
   "outputs": [],
   "source": [
    "# This would be e.g. in person.py\n",
    "class Person:\n",
    "    def __init__(self, first_name, last_name, age):\n",
    "        self.first_name = first_name\n",
    "        self.last_name = last_name\n",
    "        self.age = age\n",
    "    \n",
    "    @property\n",
    "    def full_name(self):\n",
    "        return '{} {}'.format(self.first_name, self.last_name)\n",
    "    \n",
    "    @property\n",
    "    def as_dict(self):\n",
    "        return {'name': self.full_name, 'age': self.age}\n",
    "        \n",
    "    def increase_age(self, years):\n",
    "        if years < 0:\n",
    "            raise ValueError('Can not make people younger :(')\n",
    "        self.age += years"
   ]
  },
  {
   "cell_type": "markdown",
   "metadata": {},
   "source": [
    "You can easily create resusable testing code by using pytest fixtures. If you introduce your fixtures inside [_conftest.py_](https://docs.pytest.org/en/latest/fixture.html#conftest-py-sharing-fixture-functions), the fixtures are available for all your test cases. In general, the location of _conftest.py_ is at the root of your _tests_ directory."
   ]
  },
  {
   "cell_type": "code",
   "execution_count": 3,
   "metadata": {},
   "outputs": [
    {
     "output_type": "error",
     "ename": "NameError",
     "evalue": "name 'pytest' is not defined",
     "traceback": [
      "\u001b[1;31m---------------------------------------------------------------------------\u001b[0m",
      "\u001b[1;31mNameError\u001b[0m                                 Traceback (most recent call last)",
      "\u001b[1;32m<ipython-input-3-8979472e7340>\u001b[0m in \u001b[0;36m<module>\u001b[1;34m\u001b[0m\n\u001b[0;32m      1\u001b[0m \u001b[1;31m# This would be in either conftest.py or test_person.py\u001b[0m\u001b[1;33m\u001b[0m\u001b[1;33m\u001b[0m\u001b[1;33m\u001b[0m\u001b[0m\n\u001b[1;32m----> 2\u001b[1;33m \u001b[1;33m@\u001b[0m\u001b[0mpytest\u001b[0m\u001b[1;33m.\u001b[0m\u001b[0mfixture\u001b[0m\u001b[1;33m(\u001b[0m\u001b[1;33m)\u001b[0m\u001b[1;33m\u001b[0m\u001b[1;33m\u001b[0m\u001b[0m\n\u001b[0m\u001b[0;32m      3\u001b[0m \u001b[1;32mdef\u001b[0m \u001b[0mdefault_person\u001b[0m\u001b[1;33m(\u001b[0m\u001b[1;33m)\u001b[0m\u001b[1;33m:\u001b[0m\u001b[1;33m\u001b[0m\u001b[1;33m\u001b[0m\u001b[0m\n\u001b[0;32m      4\u001b[0m     \u001b[0mperson\u001b[0m \u001b[1;33m=\u001b[0m \u001b[0mPerson\u001b[0m\u001b[1;33m(\u001b[0m\u001b[0mfirst_name\u001b[0m\u001b[1;33m=\u001b[0m\u001b[1;34m'John'\u001b[0m\u001b[1;33m,\u001b[0m \u001b[0mlast_name\u001b[0m\u001b[1;33m=\u001b[0m\u001b[1;34m'Doe'\u001b[0m\u001b[1;33m,\u001b[0m \u001b[0mage\u001b[0m\u001b[1;33m=\u001b[0m\u001b[1;36m82\u001b[0m\u001b[1;33m)\u001b[0m\u001b[1;33m\u001b[0m\u001b[1;33m\u001b[0m\u001b[0m\n\u001b[0;32m      5\u001b[0m     \u001b[1;32mreturn\u001b[0m \u001b[0mperson\u001b[0m\u001b[1;33m\u001b[0m\u001b[1;33m\u001b[0m\u001b[0m\n",
      "\u001b[1;31mNameError\u001b[0m: name 'pytest' is not defined"
     ]
    }
   ],
   "source": [
    "# This would be in either conftest.py or test_person.py\n",
    "@pytest.fixture()\n",
    "def default_person():\n",
    "    person = Person(first_name='John', last_name='Doe', age=82)\n",
    "    return person"
   ]
  },
  {
   "cell_type": "markdown",
   "metadata": {},
   "source": [
    "Then you can utilize `default_person` fixture in the actual test cases. "
   ]
  },
  {
   "cell_type": "code",
   "execution_count": null,
   "metadata": {},
   "outputs": [],
   "source": [
    "%%run_pytest[clean]\n",
    "\n",
    "# These would be in test_person.py\n",
    "def test_full_name(default_person): # Note: we use fixture as an argument of the test case\n",
    "    result = default_person.full_name\n",
    "    assert result == 'John Doe'\n",
    "    \n",
    "    \n",
    "def test_as_dict(default_person):\n",
    "    expected = {'name': 'John Doe', 'age': 82}\n",
    "    result = default_person.as_dict\n",
    "    assert result == expected\n",
    "    \n",
    "    \n",
    "def test_increase_age(default_person):\n",
    "    default_person.increase_age(1)\n",
    "    assert default_person.age == 83\n",
    "    \n",
    "    default_person.increase_age(10)\n",
    "    assert default_person.age == 93\n",
    "    \n",
    "    \n",
    "def test_increase_age_with_negative_number(default_person):\n",
    "    with pytest.raises(ValueError):\n",
    "        default_person.increase_age(-1)"
   ]
  },
  {
   "cell_type": "markdown",
   "metadata": {},
   "source": [
    "By using a fixture, we could use the same `default_person` for all our four test cases!\n",
    "\n",
    "In the `test_increase_age_with_negative_number` we used [`pytest.raises`](https://docs.pytest.org/en/latest/assert.html#assertions-about-expected-exceptions) to verify that an exception is raised. "
   ]
  },
  {
   "cell_type": "markdown",
   "metadata": {},
   "source": [
    "## [`@pytest.mark.parametrize`](https://docs.pytest.org/en/latest/parametrize.html#pytest-mark-parametrize-parametrizing-test-functions)\n",
    "Sometimes you want to test the same functionality with multiple different inputs. `pytest.mark.parametrize` is your solution for defining multiple different inputs with expected outputs. Let's consider the following implementation of `replace_names` function. "
   ]
  },
  {
   "cell_type": "code",
   "execution_count": 1,
   "metadata": {},
   "outputs": [],
   "source": [
    "# This would be e.g. in string_manipulate.py\n",
    "def replace_names(original_str, new_name):\n",
    "    \"\"\"Replaces names (uppercase words) of original_str by new_name\"\"\"\n",
    "    words = original_str.split()\n",
    "    manipulated_words = [new_name if w.istitle() else w for w in words]\n",
    "    return ' '.join(manipulated_words)"
   ]
  },
  {
   "cell_type": "markdown",
   "metadata": {},
   "source": [
    "We can test the `replace_names` function with multiple inputs by using `pytest.mark.parametrize`."
   ]
  },
  {
   "cell_type": "code",
   "execution_count": 2,
   "metadata": {},
   "outputs": [
    {
     "output_type": "stream",
     "name": "stderr",
     "text": [
      "UsageError: Cell magic `%%run_pytest[clean]` not found.\n"
     ]
    }
   ],
   "source": [
    "%%run_pytest[clean]\n",
    "\n",
    "# This would be in your test module\n",
    "@pytest.mark.parametrize(\"original,new_name,expected\", [\n",
    "        ('this is Lisa', 'John Doe', 'this is John Doe'),\n",
    "        ('how about Frank and Amy', 'John', 'how about John and John'),\n",
    "        ('no names here', 'John Doe', 'no names here'),\n",
    "    ])\n",
    "def test_replace_names(original, new_name, expected):\n",
    "    result = replace_names(original, new_name)\n",
    "    assert result == expected"
   ]
  },
  {
   "cell_type": "code",
   "execution_count": null,
   "metadata": {},
   "outputs": [],
   "source": []
  }
 ],
 "metadata": {
  "kernelspec": {
   "name": "python383jvsc74a57bd0083657ae611f9ed70577d28bc1f35e9d173f032867bfb805a1e9a1d7c089abce",
   "display_name": "Python 3.8.3 64-bit"
  },
  "language_info": {
   "codemirror_mode": {
    "name": "ipython",
    "version": 3
   },
   "file_extension": ".py",
   "mimetype": "text/x-python",
   "name": "python",
   "nbconvert_exporter": "python",
   "pygments_lexer": "ipython3",
   "version": "3.8.3"
  }
 },
 "nbformat": 4,
 "nbformat_minor": 2
}