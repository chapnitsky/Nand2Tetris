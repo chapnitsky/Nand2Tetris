{
 "cells": [
  {
   "cell_type": "markdown",
   "metadata": {},
   "source": [
    "# 1. Let's mock things!\n",
    "Below you can see `get_wiki_article` function which is a very simple implementation for fetching an article from wikipedia. Your task is to mock it's implementation such that it's going to always return `'Python is cool!'`. However, note that you should be able to check which argument is given to `urlopen` when `get_wiki_article` is called.\n",
    "\n",
    "**Note**: `get_content_of_url` uses [`urrlib`](https://docs.python.org/3/library/urllib.html#module-urllib), which is part of the Standard Library, for creating a HTTP request. Usually it's preferable to use [`requests`](http://docs.python-requests.org/en/master/) library (not part of the Standard Library) for such operations. Actually, `requests` uses `urllib` under the hood so it's good to know what's happening when you start using `requests` - or maybe you have already used it."
   ]
  },
  {
   "cell_type": "code",
   "execution_count": 32,
   "metadata": {
    "editable": false
   },
   "outputs": [],
   "source": [
    "from urllib.request import urlopen\n",
    "\n",
    "def get_wiki_article(name):\n",
    "    url = 'https://en.wikipedia.org/wiki/{}'.format(name)\n",
    "    response = urlopen(url)\n",
    "    content = str(response.read())\n",
    "    return content"
   ]
  },
  {
   "cell_type": "code",
   "execution_count": 34,
   "metadata": {
    "tags": [
     "outputPrepend"
    ]
   },
   "outputs": [
    {
     "output_type": "stream",
     "name": "stdout",
     "text": [
      "xd0\\xa1\\xd1\\x82\\xd0\\xbe\\xd0\\xbb\\xd0\\xb8\\xd1\\x86\\xd0\\xb0 \\xe2\\x80\\x93 Macedonian\" lang=\"mk\" hreflang=\"mk\" class=\"interlanguage-link-target\">\\xd0\\x9c\\xd0\\xb0\\xd0\\xba\\xd0\\xb5\\xd0\\xb4\\xd0\\xbe\\xd0\\xbd\\xd1\\x81\\xd0\\xba\\xd0\\xb8</a></li><li class=\"interlanguage-link interwiki-ml\"><a href=\"https://ml.wikipedia.org/wiki/%E0%B4%95%E0%B4%B8%E0%B5%87%E0%B4%B0\" title=\"\\xe0\\xb4\\x95\\xe0\\xb4\\xb8\\xe0\\xb5\\x87\\xe0\\xb4\\xb0 \\xe2\\x80\\x93 Malayalam\" lang=\"ml\" hreflang=\"ml\" class=\"interlanguage-link-target\">\\xe0\\xb4\\xae\\xe0\\xb4\\xb2\\xe0\\xb4\\xaf\\xe0\\xb4\\xbe\\xe0\\xb4\\xb3\\xe0\\xb4\\x82</a></li><li class=\"interlanguage-link interwiki-arz\"><a href=\"https://arz.wikipedia.org/wiki/%D9%83%D9%88%D8%B1%D8%B3%D9%89\" title=\"\\xd9\\x83\\xd9\\x88\\xd8\\xb1\\xd8\\xb3\\xd9\\x89 \\xe2\\x80\\x93 Egyptian Arabic\" lang=\"arz\" hreflang=\"arz\" class=\"interlanguage-link-target\">\\xd9\\x85\\xd8\\xb5\\xd8\\xb1\\xd9\\x89</a></li><li class=\"interlanguage-link interwiki-ms\"><a href=\"https://ms.wikipedia.org/wiki/Kerusi\" title=\"Kerusi \\xe2\\x80\\x93 Malay\" lang=\"ms\" hreflang=\"ms\" class=\"interlanguage-link-target\">Bahasa Melayu</a></li><li class=\"interlanguage-link interwiki-cdo\"><a href=\"https://cdo.wikipedia.org/wiki/I%C4%93-gi%C4%81ng\" title=\"I\\xc4\\x93-gi\\xc4\\x81ng \\xe2\\x80\\x93 Min Dong Chinese\" lang=\"cdo\" hreflang=\"cdo\" class=\"interlanguage-link-target\">M\\xc3\\xacng-d\\xc4\\x95\\xcc\\xa4ng-ng\\xe1\\xb9\\xb3\\xcc\\x84</a></li><li class=\"interlanguage-link interwiki-nah\"><a href=\"https://nah.wikipedia.org/wiki/Icpalli\" title=\"Icpalli \\xe2\\x80\\x93 N\\xc4\\x81huatl\" lang=\"nah\" hreflang=\"nah\" class=\"interlanguage-link-target\">N\\xc4\\x81huatl</a></li><li class=\"interlanguage-link interwiki-nl\"><a href=\"https://nl.wikipedia.org/wiki/Stoel\" title=\"Stoel \\xe2\\x80\\x93 Dutch\" lang=\"nl\" hreflang=\"nl\" class=\"interlanguage-link-target\">Nederlands</a></li><li class=\"interlanguage-link interwiki-nds-nl\"><a href=\"https://nds-nl.wikipedia.org/wiki/Stool\" title=\"Stool \\xe2\\x80\\x93 Low Saxon\" lang=\"nds-NL\" hreflang=\"nds-NL\" class=\"interlanguage-link-target\">Nedersaksies</a></li><li class=\"interlanguage-link interwiki-ja\"><a href=\"https://ja.wikipedia.org/wiki/%E6%A4%85%E5%AD%90\" title=\"\\xe6\\xa4\\x85\\xe5\\xad\\x90 \\xe2\\x80\\x93 Japanese\" lang=\"ja\" hreflang=\"ja\" class=\"interlanguage-link-target\">\\xe6\\x97\\xa5\\xe6\\x9c\\xac\\xe8\\xaa\\x9e</a></li><li class=\"interlanguage-link interwiki-no\"><a href=\"https://no.wikipedia.org/wiki/Stol\" title=\"Stol \\xe2\\x80\\x93 Norwegian Bokm\\xc3\\xa5l\" lang=\"nb\" hreflang=\"nb\" class=\"interlanguage-link-target\">Norsk bokm\\xc3\\xa5l</a></li><li class=\"interlanguage-link interwiki-nn\"><a href=\"https://nn.wikipedia.org/wiki/Stol\" title=\"Stol \\xe2\\x80\\x93 Norwegian Nynorsk\" lang=\"nn\" hreflang=\"nn\" class=\"interlanguage-link-target\">Norsk nynorsk</a></li><li class=\"interlanguage-link interwiki-nrm\"><a href=\"https://nrm.wikipedia.org/wiki/Tcha%C3%AEse\" title=\"Tcha\\xc3\\xaese \\xe2\\x80\\x93 Norman\" lang=\"nrf\" hreflang=\"nrf\" class=\"interlanguage-link-target\">Nouormand</a></li><li class=\"interlanguage-link interwiki-oc\"><a href=\"https://oc.wikipedia.org/wiki/Cadi%C3%A8ra\" title=\"Cadi\\xc3\\xa8ra \\xe2\\x80\\x93 Occitan\" lang=\"oc\" hreflang=\"oc\" class=\"interlanguage-link-target\">Occitan</a></li><li class=\"interlanguage-link interwiki-pa\"><a href=\"https://pa.wikipedia.org/wiki/%E0%A8%95%E0%A9%81%E0%A8%B0%E0%A8%B8%E0%A9%80\" title=\"\\xe0\\xa8\\x95\\xe0\\xa9\\x81\\xe0\\xa8\\xb0\\xe0\\xa8\\xb8\\xe0\\xa9\\x80 \\xe2\\x80\\x93 Punjabi\" lang=\"pa\" hreflang=\"pa\" class=\"interlanguage-link-target\">\\xe0\\xa8\\xaa\\xe0\\xa9\\xb0\\xe0\\xa8\\x9c\\xe0\\xa8\\xbe\\xe0\\xa8\\xac\\xe0\\xa9\\x80</a></li><li class=\"interlanguage-link interwiki-nds\"><a href=\"https://nds.wikipedia.org/wiki/Stohl\" title=\"Stohl \\xe2\\x80\\x93 Low German\" lang=\"nds\" hreflang=\"nds\" class=\"interlanguage-link-target\">Plattd\\xc3\\xbc\\xc3\\xbctsch</a></li><li class=\"interlanguage-link interwiki-pl\"><a href=\"https://pl.wikipedia.org/wiki/Krzes%C5%82o\" title=\"Krzes\\xc5\\x82o \\xe2\\x80\\x93 Polish\" lang=\"pl\" hreflang=\"pl\" class=\"interlanguage-link-target\">Polski</a></li><li class=\"interlanguage-link interwiki-pt\"><a href=\"https://pt.wikipedia.org/wiki/Cadeira\" title=\"Cadeira \\xe2\\x80\\x93 Portuguese\" lang=\"pt\" hreflang=\"pt\" class=\"interlanguage-link-target\">Portugu\\xc3\\xaas</a></li><li class=\"interlanguage-link interwiki-ro\"><a href=\"https://ro.wikipedia.org/wiki/Scaun\" title=\"Scaun \\xe2\\x80\\x93 Romanian\" lang=\"ro\" hreflang=\"ro\" class=\"interlanguage-link-target\">Rom\\xc3\\xa2n\\xc4\\x83</a></li><li class=\"interlanguage-link interwiki-qu\"><a href=\"https://qu.wikipedia.org/wiki/Tiyana\" title=\"Tiyana \\xe2\\x80\\x93 Quechua\" lang=\"qu\" hreflang=\"qu\" class=\"interlanguage-link-target\">Runa Simi</a></li><li class=\"interlanguage-link interwiki-ru\"><a href=\"https://ru.wikipedia.org/wiki/%D0%A1%D1%82%D1%83%D0%BB\" title=\"\\xd0\\xa1\\xd1\\x82\\xd1\\x83\\xd0\\xbb \\xe2\\x80\\x93 Russian\" lang=\"ru\" hreflang=\"ru\" class=\"interlanguage-link-target\">\\xd0\\xa0\\xd1\\x83\\xd1\\x81\\xd1\\x81\\xd0\\xba\\xd0\\xb8\\xd0\\xb9</a></li><li class=\"interlanguage-link interwiki-szy\"><a href=\"https://szy.wikipedia.org/wiki/elun\" title=\"elun \\xe2\\x80\\x93 Sakizaya\" lang=\"szy\" hreflang=\"szy\" class=\"interlanguage-link-target\">Sakizaya</a></li><li class=\"interlanguage-link interwiki-sat\"><a href=\"https://sat.wikipedia.org/wiki/%E1%B1%A2%E1%B1%9F.%E1%B1%AA%E1%B1%A4\" title=\"\\xe1\\xb1\\xa2\\xe1\\xb1\\x9f.\\xe1\\xb1\\xaa\\xe1\\xb1\\xa4 \\xe2\\x80\\x93 Santali\" lang=\"sat\" hreflang=\"sat\" class=\"interlanguage-link-target\">\\xe1\\xb1\\xa5\\xe1\\xb1\\x9f\\xe1\\xb1\\xb1\\xe1\\xb1\\x9b\\xe1\\xb1\\x9f\\xe1\\xb1\\xb2\\xe1\\xb1\\xa4</a></li><li class=\"interlanguage-link interwiki-sco\"><a href=\"https://sco.wikipedia.org/wiki/Chair\" title=\"Chair \\xe2\\x80\\x93 Scots\" lang=\"sco\" hreflang=\"sco\" class=\"interlanguage-link-target\">Scots</a></li><li class=\"interlanguage-link interwiki-tn\"><a href=\"https://tn.wikipedia.org/wiki/Setilo\" title=\"Setilo \\xe2\\x80\\x93 Tswana\" lang=\"tn\" hreflang=\"tn\" class=\"interlanguage-link-target\">Setswana</a></li><li class=\"interlanguage-link interwiki-sq\"><a href=\"https://sq.wikipedia.org/wiki/Karrige\" title=\"Karrige \\xe2\\x80\\x93 Albanian\" lang=\"sq\" hreflang=\"sq\" class=\"interlanguage-link-target\">Shqip</a></li><li class=\"interlanguage-link interwiki-scn\"><a href=\"https://scn.wikipedia.org/wiki/Seggia\" title=\"Seggia \\xe2\\x80\\x93 Sicilian\" lang=\"scn\" hreflang=\"scn\" class=\"interlanguage-link-target\">Sicilianu</a></li><li class=\"interlanguage-link interwiki-simple\"><a href=\"https://simple.wikipedia.org/wiki/Chair\" title=\"Chair \\xe2\\x80\\x93 Simple English\" lang=\"en-simple\" hreflang=\"en-simple\" class=\"interlanguage-link-target\">Simple English</a></li><li class=\"interlanguage-link interwiki-sd\"><a href=\"https://sd.wikipedia.org/wiki/%DA%AA%D8%B1%D8%B3%D9%8A\" title=\"\\xda\\xaa\\xd8\\xb1\\xd8\\xb3\\xd9\\x8a \\xe2\\x80\\x93 Sindhi\" lang=\"sd\" hreflang=\"sd\" class=\"interlanguage-link-target\">\\xd8\\xb3\\xd9\\x86\\xda\\x8c\\xd9\\x8a</a></li><li class=\"interlanguage-link interwiki-sk\"><a href=\"https://sk.wikipedia.org/wiki/Stoli%C4%8Dka\" title=\"Stoli\\xc4\\x8dka \\xe2\\x80\\x93 Slovak\" lang=\"sk\" hreflang=\"sk\" class=\"interlanguage-link-target\">Sloven\\xc4\\x8dina</a></li><li class=\"interlanguage-link interwiki-sl\"><a href=\"https://sl.wikipedia.org/wiki/Stol_(pohi%C5%A1tvo)\" title=\"Stol (pohi\\xc5\\xa1tvo) \\xe2\\x80\\x93 Slovenian\" lang=\"sl\" hreflang=\"sl\" class=\"interlanguage-link-target\">Sloven\\xc5\\xa1\\xc4\\x8dina</a></li><li class=\"interlanguage-link interwiki-so\"><a href=\"https://so.wikipedia.org/wiki/Kursi\" title=\"Kursi \\xe2\\x80\\x93 Somali\" lang=\"so\" hreflang=\"so\" class=\"interlanguage-link-target\">Soomaaliga</a></li><li class=\"interlanguage-link interwiki-sr\"><a href=\"https://sr.wikipedia.org/wiki/%D0%A1%D1%82%D0%BE%D0%BB%D0%B8%D1%86%D0%B0\" title=\"\\xd0\\xa1\\xd1\\x82\\xd0\\xbe\\xd0\\xbb\\xd0\\xb8\\xd1\\x86\\xd0\\xb0 \\xe2\\x80\\x93 Serbian\" lang=\"sr\" hreflang=\"sr\" class=\"interlanguage-link-target\">\\xd0\\xa1\\xd1\\x80\\xd0\\xbf\\xd1\\x81\\xd0\\xba\\xd0\\xb8 / srpski</a></li><li class=\"interlanguage-link interwiki-sh\"><a href=\"https://sh.wikipedia.org/wiki/Stolica\" title=\"Stolica \\xe2\\x80\\x93 Serbo-Croatian\" lang=\"sh\" hreflang=\"sh\" class=\"interlanguage-link-target\">Srpskohrvatski / \\xd1\\x81\\xd1\\x80\\xd0\\xbf\\xd1\\x81\\xd0\\xba\\xd0\\xbe\\xd1\\x85\\xd1\\x80\\xd0\\xb2\\xd0\\xb0\\xd1\\x82\\xd1\\x81\\xd0\\xba\\xd0\\xb8</a></li><li class=\"interlanguage-link interwiki-su\"><a href=\"https://su.wikipedia.org/wiki/Korsi\" title=\"Korsi \\xe2\\x80\\x93 Sundanese\" lang=\"su\" hreflang=\"su\" class=\"interlanguage-link-target\">Sunda</a></li><li class=\"interlanguage-link interwiki-fi\"><a href=\"https://fi.wikipedia.org/wiki/Tuoli\" title=\"Tuoli \\xe2\\x80\\x93 Finnish\" lang=\"fi\" hreflang=\"fi\" class=\"interlanguage-link-target\">Suomi</a></li><li class=\"interlanguage-link interwiki-sv\"><a href=\"https://sv.wikipedia.org/wiki/Stol\" title=\"Stol \\xe2\\x80\\x93 Swedish\" lang=\"sv\" hreflang=\"sv\" class=\"interlanguage-link-target\">Svenska</a></li><li class=\"interlanguage-link interwiki-ta\"><a href=\"https://ta.wikipedia.org/wiki/%E0%AE%A8%E0%AE%BE%E0%AE%B1%E0%AF%8D%E0%AE%95%E0%AE%BE%E0%AE%B2%E0%AE%BF\" title=\"\\xe0\\xae\\xa8\\xe0\\xae\\xbe\\xe0\\xae\\xb1\\xe0\\xaf\\x8d\\xe0\\xae\\x95\\xe0\\xae\\xbe\\xe0\\xae\\xb2\\xe0\\xae\\xbf \\xe2\\x80\\x93 Tamil\" lang=\"ta\" hreflang=\"ta\" class=\"interlanguage-link-target\">\\xe0\\xae\\xa4\\xe0\\xae\\xae\\xe0\\xae\\xbf\\xe0\\xae\\xb4\\xe0\\xaf\\x8d</a></li><li class=\"interlanguage-link interwiki-kab\"><a href=\"https://kab.wikipedia.org/wiki/As%C9%A3im\" title=\"As\\xc9\\xa3im \\xe2\\x80\\x93 Kabyle\" lang=\"kab\" hreflang=\"kab\" class=\"interlanguage-link-target\">Taqbaylit</a></li><li class=\"interlanguage-link interwiki-tt\"><a href=\"https://tt.wikipedia.org/wiki/%D0%A3%D1%80%D1%8B%D0%BD%D0%B4%D1%8B%D0%BA\" title=\"\\xd0\\xa3\\xd1\\x80\\xd1\\x8b\\xd0\\xbd\\xd0\\xb4\\xd1\\x8b\\xd0\\xba \\xe2\\x80\\x93 Tatar\" lang=\"tt\" hreflang=\"tt\" class=\"interlanguage-link-target\">\\xd0\\xa2\\xd0\\xb0\\xd1\\x82\\xd0\\xb0\\xd1\\x80\\xd1\\x87\\xd0\\xb0/tatar\\xc3\\xa7a</a></li><li class=\"interlanguage-link interwiki-te\"><a href=\"https://te.wikipedia.org/wiki/%E0%B0%95%E0%B1%81%E0%B0%B0%E0%B1%8D%E0%B0%9A%E0%B1%80\" title=\"\\xe0\\xb0\\x95\\xe0\\xb1\\x81\\xe0\\xb0\\xb0\\xe0\\xb1\\x8d\\xe0\\xb0\\x9a\\xe0\\xb1\\x80 \\xe2\\x80\\x93 Telugu\" lang=\"te\" hreflang=\"te\" class=\"interlanguage-link-target\">\\xe0\\xb0\\xa4\\xe0\\xb1\\x86\\xe0\\xb0\\xb2\\xe0\\xb1\\x81\\xe0\\xb0\\x97\\xe0\\xb1\\x81</a></li><li class=\"interlanguage-link interwiki-th\"><a href=\"https://th.wikipedia.org/wiki/%E0%B9%80%E0%B8%81%E0%B9%89%E0%B8%B2%E0%B8%AD%E0%B8%B5%E0%B9%89\" title=\"\\xe0\\xb9\\x80\\xe0\\xb8\\x81\\xe0\\xb9\\x89\\xe0\\xb8\\xb2\\xe0\\xb8\\xad\\xe0\\xb8\\xb5\\xe0\\xb9\\x89 \\xe2\\x80\\x93 Thai\" lang=\"th\" hreflang=\"th\" class=\"interlanguage-link-target\">\\xe0\\xb9\\x84\\xe0\\xb8\\x97\\xe0\\xb8\\xa2</a></li><li class=\"interlanguage-link interwiki-chr\"><a href=\"https://chr.wikipedia.org/wiki/%E1%8E%A6%E1%8F%8D%E1%8E%A9%E1%8E%B6\" title=\"\\xe1\\x8e\\xa6\\xe1\\x8f\\x8d\\xe1\\x8e\\xa9\\xe1\\x8e\\xb6 \\xe2\\x80\\x93 Cherokee\" lang=\"chr\" hreflang=\"chr\" class=\"interlanguage-link-target\">\\xe1\\x8f\\xa3\\xe1\\x8e\\xb3\\xe1\\x8e\\xa9</a></li><li class=\"interlanguage-link interwiki-chy\"><a href=\"https://chy.wikipedia.org/wiki/T%C3%A1xe%27%C3%AAs%C3%A9est%C3%B4tse\" title=\"T\\xc3\\xa1xe&#039;\\xc3\\xaas\\xc3\\xa9est\\xc3\\xb4tse \\xe2\\x80\\x93 Cheyenne\" lang=\"chy\" hreflang=\"chy\" class=\"interlanguage-link-target\">Tsets\\xc3\\xaahest\\xc3\\xa2hese</a></li><li class=\"interlanguage-link interwiki-tcy\"><a href=\"https://tcy.wikipedia.org/wiki/%E0%B2%95%E0%B3%81%E0%B2%B0%E0%B3%8D%E0%B2%B8%E0%B3%81\" title=\"\\xe0\\xb2\\x95\\xe0\\xb3\\x81\\xe0\\xb2\\xb0\\xe0\\xb3\\x8d\\xe0\\xb2\\xb8\\xe0\\xb3\\x81 \\xe2\\x80\\x93 Tulu\" lang=\"tcy\" hreflang=\"tcy\" class=\"interlanguage-link-target\">\\xe0\\xb2\\xa4\\xe0\\xb3\\x81\\xe0\\xb2\\xb3\\xe0\\xb3\\x81</a></li><li class=\"interlanguage-link interwiki-tr\"><a href=\"https://tr.wikipedia.org/wiki/Sandalye\" title=\"Sandalye \\xe2\\x80\\x93 Turkish\" lang=\"tr\" hreflang=\"tr\" class=\"interlanguage-link-target\">T\\xc3\\xbcrk\\xc3\\xa7e</a></li><li class=\"interlanguage-link interwiki-uk\"><a href=\"https://uk.wikipedia.org/wiki/%D0%A1%D1%82%D1%96%D0%BB%D0%B5%D1%86%D1%8C\" title=\"\\xd0\\xa1\\xd1\\x82\\xd1\\x96\\xd0\\xbb\\xd0\\xb5\\xd1\\x86\\xd1\\x8c \\xe2\\x80\\x93 Ukrainian\" lang=\"uk\" hreflang=\"uk\" class=\"interlanguage-link-target\">\\xd0\\xa3\\xd0\\xba\\xd1\\x80\\xd0\\xb0\\xd1\\x97\\xd0\\xbd\\xd1\\x81\\xd1\\x8c\\xd0\\xba\\xd0\\xb0</a></li><li class=\"interlanguage-link interwiki-ur\"><a href=\"https://ur.wikipedia.org/wiki/%DA%A9%D8%B1%D8%B3%DB%8C\" title=\"\\xda\\xa9\\xd8\\xb1\\xd8\\xb3\\xdb\\x8c \\xe2\\x80\\x93 Urdu\" lang=\"ur\" hreflang=\"ur\" class=\"interlanguage-link-target\">\\xd8\\xa7\\xd8\\xb1\\xd8\\xaf\\xd9\\x88</a></li><li class=\"interlanguage-link interwiki-vec\"><a href=\"https://vec.wikipedia.org/wiki/Carega\" title=\"Carega \\xe2\\x80\\x93 Venetian\" lang=\"vec\" hreflang=\"vec\" class=\"interlanguage-link-target\">V\\xc3\\xa8neto</a></li><li class=\"interlanguage-link interwiki-vi\"><a href=\"https://vi.wikipedia.org/wiki/Gh%E1%BA%BF\" title=\"Gh\\xe1\\xba\\xbf \\xe2\\x80\\x93 Vietnamese\" lang=\"vi\" hreflang=\"vi\" class=\"interlanguage-link-target\">Ti\\xe1\\xba\\xbfng Vi\\xe1\\xbb\\x87t</a></li><li class=\"interlanguage-link interwiki-wa\"><a href=\"https://wa.wikipedia.org/wiki/Tcheyire\" title=\"Tcheyire \\xe2\\x80\\x93 Walloon\" lang=\"wa\" hreflang=\"wa\" class=\"interlanguage-link-target\">Walon</a></li><li class=\"interlanguage-link interwiki-vls\"><a href=\"https://vls.wikipedia.org/wiki/Stoel\" title=\"Stoel \\xe2\\x80\\x93 West Flemish\" lang=\"vls\" hreflang=\"vls\" class=\"interlanguage-link-target\">West-Vlams</a></li><li class=\"interlanguage-link interwiki-war\"><a href=\"https://war.wikipedia.org/wiki/Lingkuran\" title=\"Lingkuran \\xe2\\x80\\x93 Waray\" lang=\"war\" hreflang=\"war\" class=\"interlanguage-link-target\">Winaray</a></li><li class=\"interlanguage-link interwiki-wuu\"><a href=\"https://wuu.wikipedia.org/wiki/%E6%A4%85\" title=\"\\xe6\\xa4\\x85 \\xe2\\x80\\x93 Wu Chinese\" lang=\"wuu\" hreflang=\"wuu\" class=\"interlanguage-link-target\">\\xe5\\x90\\xb4\\xe8\\xaf\\xad</a></li><li class=\"interlanguage-link interwiki-yi\"><a href=\"https://yi.wikipedia.org/wiki/%D7%A9%D7%98%D7%95%D7%9C\" title=\"\\xd7\\xa9\\xd7\\x98\\xd7\\x95\\xd7\\x9c \\xe2\\x80\\x93 Yiddish\" lang=\"yi\" hreflang=\"yi\" class=\"interlanguage-link-target\">\\xd7\\x99\\xd7\\x99\\xd6\\xb4\\xd7\\x93\\xd7\\x99\\xd7\\xa9</a></li><li class=\"interlanguage-link interwiki-zh-yue\"><a href=\"https://zh-yue.wikipedia.org/wiki/%E5%87%B3\" title=\"\\xe5\\x87\\xb3 \\xe2\\x80\\x93 Cantonese\" lang=\"yue\" hreflang=\"yue\" class=\"interlanguage-link-target\">\\xe7\\xb2\\xb5\\xe8\\xaa\\x9e</a></li><li class=\"interlanguage-link interwiki-bat-smg\"><a href=\"https://bat-smg.wikipedia.org/wiki/Krieslos\" title=\"Krieslos \\xe2\\x80\\x93 Samogitian\" lang=\"sgs\" hreflang=\"sgs\" class=\"interlanguage-link-target\">\\xc5\\xbdemait\\xc4\\x97\\xc5\\xa1ka</a></li><li class=\"interlanguage-link interwiki-zh\"><a href=\"https://zh.wikipedia.org/wiki/%E6%A4%85\" title=\"\\xe6\\xa4\\x85 \\xe2\\x80\\x93 Chinese\" lang=\"zh\" hreflang=\"zh\" class=\"interlanguage-link-target\">\\xe4\\xb8\\xad\\xe6\\x96\\x87</a></li><li class=\"interlanguage-link interwiki-mad\"><a href=\"https://mad.wikipedia.org/wiki/Kors%C3%A8\" title=\"Kors\\xc3\\xa8 \\xe2\\x80\\x93 Madurese\" lang=\"mad\" hreflang=\"mad\" class=\"interlanguage-link-target\">Madhur\\xc3\\xa2</a></li></ul>\\n\\t\\t<div class=\"after-portlet after-portlet-lang\"><span class=\"wb-langlinks-edit wb-langlinks-link\"><a href=\"https://www.wikidata.org/wiki/Special:EntityPage/Q15026#sitelinks-wikipedia\" title=\"Edit interlanguage links\" class=\"wbc-editpage\">Edit links</a></span></div>\\n\\t</div>\\n</nav>\\n\\n</div>\\n\\n</div>\\n<footer id=\"footer\" class=\"mw-footer\" role=\"contentinfo\" >\\n\\t<ul id=\"footer-info\" >\\n\\t<li id=\"footer-info-lastmod\"> This page was last edited on 12 March 2021, at 02:35<span class=\"anonymous-show\">&#160;(UTC)</span>.</li>\\n\\t<li id=\"footer-info-copyright\">Text is available under the <a rel=\"license\" href=\"//en.wikipedia.org/wiki/Wikipedia:Text_of_Creative_Commons_Attribution-ShareAlike_3.0_Unported_License\">Creative Commons Attribution-ShareAlike License</a><a rel=\"license\" href=\"//creativecommons.org/licenses/by-sa/3.0/\" style=\"display:none;\"></a>;\\nadditional terms may apply.  By using this site, you agree to the <a href=\"//foundation.wikimedia.org/wiki/Terms_of_Use\">Terms of Use</a> and <a href=\"//foundation.wikimedia.org/wiki/Privacy_policy\">Privacy Policy</a>. Wikipedia\\xc2\\xae is a registered trademark of the <a href=\"//www.wikimediafoundation.org/\">Wikimedia Foundation, Inc.</a>, a non-profit organization.</li>\\n</ul>\\n\\n\\t<ul id=\"footer-places\" >\\n\\t<li id=\"footer-places-privacy\"><a href=\"https://foundation.wikimedia.org/wiki/Privacy_policy\" class=\"extiw\" title=\"wmf:Privacy policy\">Privacy policy</a></li>\\n\\t<li id=\"footer-places-about\"><a href=\"/wiki/Wikipedia:About\" title=\"Wikipedia:About\">About Wikipedia</a></li>\\n\\t<li id=\"footer-places-disclaimer\"><a href=\"/wiki/Wikipedia:General_disclaimer\" title=\"Wikipedia:General disclaimer\">Disclaimers</a></li>\\n\\t<li id=\"footer-places-contact\"><a href=\"//en.wikipedia.org/wiki/Wikipedia:Contact_us\">Contact Wikipedia</a></li>\\n\\t<li id=\"footer-places-mobileview\"><a href=\"//en.m.wikipedia.org/w/index.php?title=Chair&amp;mobileaction=toggle_view_mobile\" class=\"noprint stopMobileRedirectToggle\">Mobile view</a></li>\\n\\t<li id=\"footer-places-developers\"><a href=\"https://www.mediawiki.org/wiki/Special:MyLanguage/How_to_contribute\">Developers</a></li>\\n\\t<li id=\"footer-places-statslink\"><a href=\"https://stats.wikimedia.org/#/en.wikipedia.org\">Statistics</a></li>\\n\\t<li id=\"footer-places-cookiestatement\"><a href=\"https://foundation.wikimedia.org/wiki/Cookie_statement\">Cookie statement</a></li>\\n</ul>\\n\\n\\t<ul id=\"footer-icons\" class=\"noprint\">\\n\\t<li id=\"footer-copyrightico\"><a href=\"https://wikimediafoundation.org/\"><img src=\"/static/images/footer/wikimedia-button.png\" srcset=\"/static/images/footer/wikimedia-button-1.5x.png 1.5x, /static/images/footer/wikimedia-button-2x.png 2x\" width=\"88\" height=\"31\" alt=\"Wikimedia Foundation\" loading=\"lazy\" /></a></li>\\n\\t<li id=\"footer-poweredbyico\"><a href=\"https://www.mediawiki.org/\"><img src=\"/static/images/footer/poweredby_mediawiki_88x31.png\" alt=\"Powered by MediaWiki\" srcset=\"/static/images/footer/poweredby_mediawiki_132x47.png 1.5x, /static/images/footer/poweredby_mediawiki_176x62.png 2x\" width=\"88\" height=\"31\" loading=\"lazy\"/></a></li>\\n</ul>\\n\\n</footer>\\n\\n\\n<script>(RLQ=window.RLQ||[]).push(function(){mw.config.set({\"wgPageParseReport\":{\"limitreport\":{\"cputime\":\"0.846\",\"walltime\":\"1.088\",\"ppvisitednodes\":{\"value\":3585,\"limit\":1000000},\"postexpandincludesize\":{\"value\":72565,\"limit\":2097152},\"templateargumentsize\":{\"value\":4561,\"limit\":2097152},\"expansiondepth\":{\"value\":14,\"limit\":40},\"expensivefunctioncount\":{\"value\":9,\"limit\":500},\"unstrip-depth\":{\"value\":1,\"limit\":20},\"unstrip-size\":{\"value\":119413,\"limit\":5000000},\"entityaccesscount\":{\"value\":1,\"limit\":400},\"timingprofile\":[\"100.00%  927.936      1 -total\",\" 37.53%  348.298      1 Template:Reflist\",\" 26.29%  243.968     31 Template:Cite_web\",\"  9.98%   92.575      4 Template:Citation_needed\",\"  9.02%   83.740      1 Template:Short_description\",\"  8.24%   76.443      3 Template:ISBN\",\"  7.47%   69.325      4 Template:Fix\",\"  6.59%   61.168      1 Template:Authority_control\",\"  6.51%   60.391      1 Template:Pp-protected\",\"  5.85%   54.289     15 Template:Convert\"]},\"scribunto\":{\"limitreport-timeusage\":{\"value\":\"0.444\",\"limit\":\"10.000\"},\"limitreport-memusage\":{\"value\":9928240,\"limit\":52428800}},\"cachereport\":{\"origin\":\"mw1272\",\"timestamp\":\"20210414014026\",\"ttl\":2592000,\"transientcontent\":false}}});});</script>\\n<script type=\"application/ld+json\">{\"@context\":\"https:\\\\/\\\\/schema.org\",\"@type\":\"Article\",\"name\":\"Chair\",\"url\":\"https:\\\\/\\\\/en.wikipedia.org\\\\/wiki\\\\/Chair\",\"sameAs\":\"http:\\\\/\\\\/www.wikidata.org\\\\/entity\\\\/Q15026\",\"mainEntity\":\"http:\\\\/\\\\/www.wikidata.org\\\\/entity\\\\/Q15026\",\"author\":{\"@type\":\"Organization\",\"name\":\"Contributors to Wikimedia projects\"},\"publisher\":{\"@type\":\"Organization\",\"name\":\"Wikimedia Foundation, Inc.\",\"logo\":{\"@type\":\"ImageObject\",\"url\":\"https:\\\\/\\\\/www.wikimedia.org\\\\/static\\\\/images\\\\/wmf-hor-googpub.png\"}},\"datePublished\":\"2003-07-07T07:12:52Z\",\"dateModified\":\"2021-03-12T02:35:38Z\",\"image\":\"https:\\\\/\\\\/upload.wikimedia.org\\\\/wikipedia\\\\/commons\\\\/c\\\\/c6\\\\/Set_of_fourteen_side_chairs_MET_DP110780.jpg\",\"headline\":\"piece of furniture for sitting on\"}</script>\\n<script>(RLQ=window.RLQ||[]).push(function(){mw.config.set({\"wgBackendResponseTime\":247,\"wgHostname\":\"mw1265\"});});</script>\\n</body></html>'\n"
     ]
    }
   ],
   "source": [
    "from unittest.mock import patch, Mock\n",
    "\n",
    "@patch('urllib.urlopen')\n",
    "def your_test_method(mocker):\n",
    "    a = Mock()\n",
    "    a.text = 'Python is cool!'\n",
    "    mocker.return_value = a\n",
    "\n",
    "print(get_wiki_article('Chair'))\n"
   ]
  },
  {
   "cell_type": "markdown",
   "metadata": {},
   "source": [
    "Let's verify it works as expected."
   ]
  },
  {
   "cell_type": "code",
   "execution_count": 16,
   "metadata": {
    "editable": false
   },
   "outputs": [
    {
     "output_type": "error",
     "ename": "AssertionError",
     "evalue": "Guido is still there!",
     "traceback": [
      "\u001b[1;31m---------------------------------------------------------------------------\u001b[0m",
      "\u001b[1;31mAssertionError\u001b[0m                            Traceback (most recent call last)",
      "\u001b[1;32m<ipython-input-16-bbd0ad889354>\u001b[0m in \u001b[0;36m<module>\u001b[1;34m\u001b[0m\n\u001b[0;32m      1\u001b[0m \u001b[0marticle\u001b[0m \u001b[1;33m=\u001b[0m \u001b[1;34m'Python_(programming_language)'\u001b[0m\u001b[1;33m\u001b[0m\u001b[1;33m\u001b[0m\u001b[0m\n\u001b[0;32m      2\u001b[0m \u001b[0mres\u001b[0m \u001b[1;33m=\u001b[0m \u001b[0mget_wiki_article\u001b[0m\u001b[1;33m(\u001b[0m\u001b[0marticle\u001b[0m\u001b[1;33m)\u001b[0m\u001b[1;33m\u001b[0m\u001b[1;33m\u001b[0m\u001b[0m\n\u001b[1;32m----> 3\u001b[1;33m \u001b[1;32massert\u001b[0m \u001b[1;34m'Guido van Rossum'\u001b[0m \u001b[1;32mnot\u001b[0m \u001b[1;32min\u001b[0m \u001b[0mres\u001b[0m\u001b[1;33m,\u001b[0m \u001b[1;34m'Guido is still there!'\u001b[0m\u001b[1;33m\u001b[0m\u001b[1;33m\u001b[0m\u001b[0m\n\u001b[0m\u001b[0;32m      4\u001b[0m \u001b[1;32massert\u001b[0m \u001b[0mres\u001b[0m \u001b[1;33m==\u001b[0m \u001b[1;34m'Python is cool!'\u001b[0m\u001b[1;33m\u001b[0m\u001b[1;33m\u001b[0m\u001b[0m\n\u001b[0;32m      5\u001b[0m \u001b[0murlopen\u001b[0m\u001b[1;33m.\u001b[0m\u001b[0massert_called_with\u001b[0m\u001b[1;33m(\u001b[0m\u001b[1;34m'https://en.wikipedia.org/wiki/Python_(programming_language)'\u001b[0m\u001b[1;33m)\u001b[0m\u001b[1;33m\u001b[0m\u001b[1;33m\u001b[0m\u001b[0m\n",
      "\u001b[1;31mAssertionError\u001b[0m: Guido is still there!"
     ]
    }
   ],
   "source": [
    "article = 'Python_(programming_language)'\n",
    "res = get_wiki_article(article)\n",
    "assert 'Guido van Rossum' not in res, 'Guido is still there!'\n",
    "assert res == 'Python is cool!'\n",
    "urlopen.assert_called_with('https://en.wikipedia.org/wiki/Python_(programming_language)')\n",
    "\n",
    "print('All good!')"
   ]
  },
  {
   "cell_type": "markdown",
   "metadata": {},
   "source": [
    "# 2. The power of `collections` module"
   ]
  },
  {
   "cell_type": "markdown",
   "metadata": {},
   "source": [
    "## 2.1 Creating a namedtuple\n",
    "Create a namedtuple `Car` which has fields `price`, `mileage`, and `brand`. "
   ]
  },
  {
   "cell_type": "code",
   "execution_count": 48,
   "metadata": {},
   "outputs": [],
   "source": [
    "from collections import namedtuple\n",
    "Car = namedtuple('Car', ['price','mileage','brand'])"
   ]
  },
  {
   "cell_type": "markdown",
   "metadata": {},
   "source": [
    "Let's test it."
   ]
  },
  {
   "cell_type": "code",
   "execution_count": 49,
   "metadata": {
    "editable": false
   },
   "outputs": [
    {
     "output_type": "stream",
     "name": "stdout",
     "text": [
      "All good!\n"
     ]
    }
   ],
   "source": [
    "car1 = Car(25000, 2000, 'BMW')\n",
    "assert car1.price == 25000\n",
    "assert car1.mileage == 2000\n",
    "assert car1.brand == 'BMW'\n",
    "assert isinstance(car1, tuple)\n",
    "\n",
    "# Note that indexing works also!\n",
    "# This means that if you change a tuple into a namedtuple,\n",
    "# the change will be backwards compatible.\n",
    "assert car1[2] == 'BMW'\n",
    "\n",
    "print('All good!')"
   ]
  },
  {
   "cell_type": "markdown",
   "metadata": {},
   "source": [
    "The power of namedtuples is their simplicity. If `Car` would have been implemented as a class, the implementation would have been notably longer. However, if you would need to be able to e.g. change the `mileage` or `price` during the lifetime of a `Car` instance, consider using `class` because `tuples` are immutable."
   ]
  },
  {
   "cell_type": "markdown",
   "metadata": {},
   "source": [
    "## 2.2 dict of dicts\n",
    "Implement a `name_mapping` function which takes a collection of names as argument. \n",
    "\n",
    "#### The specification for `name_mapping`\n",
    "* you can assume that all the elements in the names collection are strings\n",
    "* if the provided names collection is empty, returns an empty dict\n",
    "* returns a dictionary of dictionaries\n",
    "    * outer dictionary should contain keys `vowel` and `consonant`\n",
    "    * `vowel` and `consonant` keys should have dictionaries of names (keys) and their occurences (values) as values\n",
    "    * names belong to either `vowel` or `consonant` based on their first letter\n",
    "    * vowels are defined by the `VOWELS` constant\n",
    "    * if there are only names starting with a vowel, `consonant` key should not be present in the return value (same applies vice versa)\n",
    "* see the tests below for complete examples \n",
    "\n",
    "Tip: `defaultdict` and `Counter` may be helpful here :)"
   ]
  },
  {
   "cell_type": "code",
   "execution_count": 45,
   "metadata": {
    "editable": false
   },
   "outputs": [],
   "source": [
    "VOWELS = ('a', 'e', 'i', 'o', 'u')"
   ]
  },
  {
   "cell_type": "code",
   "execution_count": 46,
   "metadata": {},
   "outputs": [],
   "source": [
    "from collections import Counter, defaultdict\n",
    "\n",
    "def name_mapping(names):\n",
    "    if not names:\n",
    "        return {}\n",
    "    count_dict = Counter(names)\n",
    "    vowel={}\n",
    "    conso={}\n",
    "    for name, times in count_dict.items():\n",
    "        if name[0].lower() in VOWELS:\n",
    "            vowel[name] = times\n",
    "        else:\n",
    "            conso[name] = times\n",
    "    ret = {}\n",
    "    if conso:\n",
    "        ret['consonant'] = conso\n",
    "    if vowel:\n",
    "        ret['vowel'] = vowel\n",
    "    return ret"
   ]
  },
  {
   "cell_type": "markdown",
   "metadata": {},
   "source": [
    "Let's verify that it works correctly!"
   ]
  },
  {
   "cell_type": "code",
   "execution_count": 47,
   "metadata": {
    "editable": false
   },
   "outputs": [
    {
     "output_type": "stream",
     "name": "stdout",
     "text": [
      "First ok!\nSecond ok!\nAll ok!\n"
     ]
    }
   ],
   "source": [
    "names = ('Alice', 'John', 'Lisa', 'John', 'Eric', 'Waldo', 'annie', 'Alice', 'John')\n",
    "expected = {\n",
    "    'consonant': {\n",
    "        'John': 3,\n",
    "        'Waldo': 1,\n",
    "        'Lisa': 1\n",
    "    },\n",
    "    'vowel': {\n",
    "        'Alice': 2,\n",
    "        'annie': 1,\n",
    "        'Eric': 1\n",
    "    }\n",
    "}\n",
    "assert name_mapping(names) == expected\n",
    "print('First ok!')\n",
    "\n",
    "only_consonants = ('John', 'Doe', 'Doe')\n",
    "expected2 = {\n",
    "    'consonant': {\n",
    "        'John': 1,\n",
    "        'Doe': 2\n",
    "    }\n",
    "}\n",
    "assert name_mapping(only_consonants) == expected2\n",
    "print('Second ok!')\n",
    "\n",
    "assert name_mapping([]) == {}\n",
    "\n",
    "print('All ok!')"
   ]
  },
  {
   "cell_type": "code",
   "execution_count": null,
   "metadata": {},
   "outputs": [],
   "source": []
  }
 ],
 "metadata": {
  "kernelspec": {
   "name": "python383jvsc74a57bd0083657ae611f9ed70577d28bc1f35e9d173f032867bfb805a1e9a1d7c089abce",
   "display_name": "Python 3.8.3 64-bit"
  },
  "language_info": {
   "codemirror_mode": {
    "name": "ipython",
    "version": 3
   },
   "file_extension": ".py",
   "mimetype": "text/x-python",
   "name": "python",
   "nbconvert_exporter": "python",
   "pygments_lexer": "ipython3",
   "version": "3.8.3"
  }
 },
 "nbformat": 4,
 "nbformat_minor": 2
}